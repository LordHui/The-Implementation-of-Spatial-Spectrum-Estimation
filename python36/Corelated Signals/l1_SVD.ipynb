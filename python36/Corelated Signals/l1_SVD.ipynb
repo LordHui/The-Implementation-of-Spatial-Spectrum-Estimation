{
 "cells": [
  {
   "cell_type": "code",
   "execution_count": 9,
   "metadata": {},
   "outputs": [],
   "source": [
    "import numpy as np\n",
    "import matplotlib.pyplot as plt\n",
    "import cvxpy as cvx\n",
    "from numpy import pi, exp, sin, deg2rad, rad2deg\n",
    "from numpy.linalg import svd, norm"
   ]
  },
  {
   "cell_type": "code",
   "execution_count": 18,
   "metadata": {},
   "outputs": [
    {
     "data": {
      "image/png": "[encoded data removed]",
      "text/plain": [
       "<Figure size 432x288 with 1 Axes>"
      ]
     },
     "metadata": {},
     "output_type": "display_data"
    }
   ],
   "source": [
    "SNR = 20\n",
    "snapshots = 200\n",
    "sensorNum = 8\n",
    "\n",
    "#----------Consider a ULA, where the array sapcing is a half wavelength of the signal.--------#\n",
    "c = 3e8\n",
    "f = 2.4e9                       # frequency is 2.4GHz\n",
    "wavelength = c / f              # lambda\n",
    "spacing = wavelength / 2        # ULA's spacing\n",
    "\n",
    "#---------Sample: sample frequency is fs = 3f-------------------------------------------#\n",
    "fs = 3 * f                      \n",
    "Ts = 1 / fs                             # Sample period\n",
    "Ns = Ts * np.arange(snapshots)          # Sample spacing\n",
    "\n",
    "#----------Consider noises are generated from a zero mean Gaussian distribution.--------------#\n",
    "sigma_N = 0.1\n",
    "noiseCovMat = sigma_N * np.eye(sensorNum)\n",
    "\n",
    "noiseAmp = np.random.multivariate_normal(np.zeros(sensorNum), noiseCovMat, snapshots)\n",
    "noisePhase = np.mat([exp(-1j*2*pi*f*Ns + np.random.rand())])\n",
    "noiseMat = np.multiply(noiseAmp, noisePhase.T)                    # Each row is A sample \n",
    "\n",
    "#----------Consider three sources at -10 degree, 0 degree and 10 degree.----------------------#\n",
    "#----------Sources at -10 degree and 0 degree is coherent.------------------------------------#\n",
    "#----------Each source is generated from a zerom mean Gaussian distribution.------------------#\n",
    "theta_S = np.array([-10, 0, 10])\n",
    "sourceNum = len(theta_S)\n",
    "sigma_S = sigma_N * 10**(SNR/20)\n",
    "signalCovMat = np.mat([[sigma_S, 0.99*sigma_S, 0], [0.99*sigma_S, sigma_S, 0], [0, 0, sigma_S]])\n",
    "signalAmp = np.random.multivariate_normal(np.zeros(sourceNum), signalCovMat, snapshots)\n",
    "signalPhase = np.mat([exp(-1j*2*pi*f*Ns + np.random.rand())])\n",
    "signalMat = np.multiply(signalAmp, signalPhase.T)                # Each row is A sample \n",
    "\n",
    "spacingK = spacing * np.arange(sensorNum)\n",
    "manifoldMat = np.zeros((sensorNum, sourceNum), dtype=complex)\n",
    "for col in range(manifoldMat.shape[1]):\n",
    "    manifoldMat[:, col] = np.mat([exp(-1j*2*pi*f*((spacingK*sin(deg2rad(theta_S[col])))/c))], dtype=complex)\n",
    "\n",
    "sensorOut = np.dot(manifoldMat, signalMat.T) + noiseMat.T\n",
    "\n",
    "leftVec, singularVals, rightVecH = svd(sensorOut)\n",
    "dimReduceMat = np.mat(np.hstack((np.eye(sourceNum), np.zeros((sourceNum, snapshots - sourceNum))))).T\n",
    "dimReducedOut = np.dot(sensorOut, rightVecH.H) * dimReduceMat\n",
    "theta = np.arange(-90, 91)    # angle scan range\n",
    "manifoldMat_hat = np.zeros((sensorNum, len(theta)), dtype=complex)\n",
    "for col in range(manifoldMat_hat.shape[1]):\n",
    "    manifoldMat_hat[:, col] = np.mat([exp(-1j*2*pi*f*((spacingK*sin(deg2rad(theta[col])))/c))], dtype=complex)\n",
    "\n",
    "#----------SOC programming-----------------------#\n",
    "p = cvx.Variable()\n",
    "q = cvx.Variable()\n",
    "r = cvx.Variable(len(theta))\n",
    "regParam = cvx.Parameter(sign='positive')\n",
    "regParam.value = 2        # experienced regularization parameter\n",
    "S_sv_Re = cvx.Variable(len(theta), sourceNum)\n",
    "S_sv_Im = cvx.Variable(len(theta), sourceNum)\n",
    "Z_k_Re = dimReducedOut.real - (manifoldMat_hat.real*S_sv_Re - manifoldMat_hat.imag*S_sv_Im)\n",
    "Z_k_Im = dimReducedOut.imag - (manifoldMat_hat.real*S_sv_Im + manifoldMat_hat.imag*S_sv_Re)\n",
    "S_sv_hat_Re = cvx.norm(S_sv_Re, axis=1)\n",
    "S_sv_hat_Im = cvx.norm(S_sv_Im, axis=1)\n",
    "obj = cvx.Minimize(p + regParam*q)\n",
    "constraints = [cvx.norm(Z_k_Re, 'fro')**2 + cvx.norm(Z_k_Im, 'fro')**2 <= p,\n",
    "               cvx.norm(S_sv_hat_Re**2 + S_sv_hat_Im**2, 1) <= q\n",
    "              ]\n",
    "    \n",
    "prob = cvx.Problem(obj, constraints)\n",
    "prob.solve()\n",
    "P_hat = np.array(S_sv_hat_Re.value + 1j*S_sv_hat_Im.value)\n",
    "plt.semilogy(theta, abs(P_hat)/np.max(abs(P_hat)))\n",
    "plt.show()"
   ]
  }
 ],
 "metadata": {
  "kernelspec": {
   "display_name": "Python [conda env:py36]",
   "language": "python",
   "name": "conda-env-py36-py"
  },
  "language_info": {
   "codemirror_mode": {
    "name": "ipython",
    "version": 3
   },
   "file_extension": ".py",
   "mimetype": "text/x-python",
   "name": "python",
   "nbconvert_exporter": "python",
   "pygments_lexer": "ipython3",
   "version": "3.6.5"
  }
 },
 "nbformat": 4,
 "nbformat_minor": 2
}
