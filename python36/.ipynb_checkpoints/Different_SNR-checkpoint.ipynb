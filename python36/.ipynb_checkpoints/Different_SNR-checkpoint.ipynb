{
 "cells": [
  {
   "cell_type": "code",
   "execution_count": 1,
   "metadata": {},
   "outputs": [
    {
     "name": "stdout",
     "output_type": "stream",
     "text": [
      "importing Jupyter notebook from Root_MUSIC.ipynb\n",
      "importing Jupyter notebook from ESPRIT.ipynb\n"
     ]
    }
   ],
   "source": [
    "import Ipynb_importer\n",
    "from Root_MUSIC import Root_MUSIC\n",
    "from ESPRIT import ESPRIT\n",
    "import matplotlib.pyplot as plt\n",
    "import numpy as np"
   ]
  },
  {
   "cell_type": "code",
   "execution_count": 27,
   "metadata": {},
   "outputs": [
    {
     "name": "stdout",
     "output_type": "stream",
     "text": [
      "[-18.49141603  -0.17965608  15.41319958]\n"
     ]
    }
   ],
   "source": [
    "theta_S = np.array([-25, 0, 25])\n",
    "snapshots = 200\n",
    "sensorsNum = 8\n",
    "\n",
    "N = 10\n",
    "\n",
    "Root_List = []\n",
    "ESP_List = []\n",
    "for SNR in range(-20, 35, 5):\n",
    "    RMES = 0\n",
    "    \n",
    "    for itr in range(N):\n",
    "        theta_hat = Root_MUSIC(SNR, snapshots, sensorsNum)\n",
    "        \n",
    "        res = theta_S - theta_hat\n",
    "        RMES = RMES + np.sqrt(np.dot(res.T, res)/len(theta_S))\n",
    "        \n",
    "    RMES = RMES/N\n",
    "    Root_List.append(RMES)\n",
    "    \n",
    "    RMES = 0\n",
    "    \n",
    "    for itr in range(N):\n",
    "        theta_hat = ESPRIT(SNR, snapshots, sensorsNum)\n",
    "        \n",
    "        res = theta_S - theta_hat\n",
    "        RMES = RMES + np.sqrt(np.dot(res.T, res)/len(theta_S))\n",
    "        \n",
    "    RMES = RMES/N\n",
    "    ESP_List.append(RMES)\n",
    "\n",
    "Root_List = np.array(Root_List)\n",
    "ESP_List = np.array(ESP_List)\n",
    "\n",
    "fig = plt.figure(0)\n",
    "plt.plot(range(5, 31), Root_List, label='Root-MUSIC', marker='o', linestyle='-')\n",
    "plt.hold\n",
    "plt.plot(range(5, 31), ESP_List, label='ESPRIT', marker='*', linestyle='--')\n",
    "plt.legend()\n",
    "plt.xlabel('The Number of Sensor')\n",
    "plt.ylabel('RMES')\n",
    "plt.title('The number of test: ' + str(N))\n",
    "fig.set_size_inches(10, 10)\n",
    "plt.show()\n",
    "fig.savefig('Root-MUSIC and ESPRIT in different sensorsNum')"
   ]
  }
 ],
 "metadata": {
  "kernelspec": {
   "display_name": "Python [conda env:py36]",
   "language": "python",
   "name": "conda-env-py36-py"
  },
  "language_info": {
   "codemirror_mode": {
    "name": "ipython",
    "version": 3
   },
   "file_extension": ".py",
   "mimetype": "text/x-python",
   "name": "python",
   "nbconvert_exporter": "python",
   "pygments_lexer": "ipython3",
   "version": "3.6.4"
  }
 },
 "nbformat": 4,
 "nbformat_minor": 2
}
