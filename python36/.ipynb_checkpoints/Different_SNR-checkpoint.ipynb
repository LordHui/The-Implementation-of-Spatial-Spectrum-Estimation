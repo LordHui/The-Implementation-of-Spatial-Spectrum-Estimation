{
 "cells": [
  {
   "cell_type": "code",
   "execution_count": 2,
   "metadata": {},
   "outputs": [
    {
     "name": "stdout",
     "output_type": "stream",
     "text": [
      "importing Jupyter notebook from Root_MUSIC.ipynb\n",
      "importing Jupyter notebook from ESPRIT.ipynb\n"
     ]
    }
   ],
   "source": [
    "import Ipynb_importer\n",
    "from Root_MUSIC import Root_MUSIC\n",
    "from ESPRIT import ESPRIT\n",
    "import matplotlib.pyplot as plt\n",
    "import numpy as np"
   ]
  },
  {
   "cell_type": "code",
   "execution_count": 1,
   "metadata": {},
   "outputs": [
    {
     "ename": "NameError",
     "evalue": "name 'np' is not defined",
     "output_type": "error",
     "traceback": [
      "\u001b[0;31m---------------------------------------------------------------------------\u001b[0m",
      "\u001b[0;31mNameError\u001b[0m                                 Traceback (most recent call last)",
      "\u001b[0;32m<ipython-input-1-cee9d101a923>\u001b[0m in \u001b[0;36m<module>\u001b[0;34m()\u001b[0m\n\u001b[0;32m----> 1\u001b[0;31m \u001b[0mtheta_S\u001b[0m \u001b[0;34m=\u001b[0m \u001b[0mnp\u001b[0m\u001b[0;34m.\u001b[0m\u001b[0marray\u001b[0m\u001b[0;34m(\u001b[0m\u001b[0;34m[\u001b[0m\u001b[0;34m-\u001b[0m\u001b[0;36m25\u001b[0m\u001b[0;34m,\u001b[0m \u001b[0;36m0\u001b[0m\u001b[0;34m,\u001b[0m \u001b[0;36m25\u001b[0m\u001b[0;34m]\u001b[0m\u001b[0;34m)\u001b[0m\u001b[0;34m\u001b[0m\u001b[0m\n\u001b[0m\u001b[1;32m      2\u001b[0m \u001b[0msnapshots\u001b[0m \u001b[0;34m=\u001b[0m \u001b[0;36m200\u001b[0m\u001b[0;34m\u001b[0m\u001b[0m\n\u001b[1;32m      3\u001b[0m \u001b[0msensorsNum\u001b[0m \u001b[0;34m=\u001b[0m \u001b[0;36m8\u001b[0m\u001b[0;34m\u001b[0m\u001b[0m\n\u001b[1;32m      4\u001b[0m \u001b[0;34m\u001b[0m\u001b[0m\n\u001b[1;32m      5\u001b[0m \u001b[0mN\u001b[0m \u001b[0;34m=\u001b[0m \u001b[0;36m1000\u001b[0m\u001b[0;34m\u001b[0m\u001b[0m\n",
      "\u001b[0;31mNameError\u001b[0m: name 'np' is not defined"
     ]
    }
   ],
   "source": [
    "theta_S = np.array([-25, 0, 25])\n",
    "snapshots = 200\n",
    "sensorsNum = 8\n",
    "\n",
    "N = 1000\n",
    "\n",
    "Root_List = []\n",
    "ESP_List = []\n",
    "for SNR in range(-5, 35, 5):\n",
    "    RMES = 0\n",
    "    \n",
    "    for itr in range(N):\n",
    "        theta_hat = Root_MUSIC(SNR, snapshots, sensorsNum)\n",
    "        \n",
    "        res = theta_S - theta_hat\n",
    "        RMES = RMES + np.sqrt(np.dot(res.T, res)/len(theta_S))\n",
    "        \n",
    "    RMES = RMES/N\n",
    "    Root_List.append(RMES)\n",
    "    \n",
    "    RMES = 0\n",
    "    \n",
    "    for itr in range(N):\n",
    "        theta_hat = ESPRIT(SNR, snapshots, sensorsNum)\n",
    "        \n",
    "        res = theta_S - theta_hat\n",
    "        RMES = RMES + np.sqrt(np.dot(res.T, res)/len(theta_S))\n",
    "        \n",
    "    RMES = RMES/N\n",
    "    ESP_List.append(RMES)\n",
    "\n",
    "Root_List = np.array(Root_List)\n",
    "ESP_List = np.array(ESP_List)\n",
    "\n",
    "font = {\n",
    "    'family': 'monospace',\n",
    "    'weight': 'normal',\n",
    "    'size': 10.5,\n",
    "}\n",
    "fig = plt.figure(0)\n",
    "plt.plot(range(-5, 35, 5), Root_List, label='Root-MUSIC', marker='o', linestyle='-', color='k', linewidth=4.0)\n",
    "plt.hold\n",
    "plt.plot(range(-5, 35, 5), ESP_List, label='ESPRIT', marker='*', linestyle='--', color='k', linewidth=4.0)\n",
    "plt.tick_params(labelsize=10.5)\n",
    "plt.grid(True, linestyle='--', color='k', linewidth=2.0)\n",
    "plt.legend(prop=font)\n",
    "plt.xlabel('SNR(dB)', font)\n",
    "plt.ylabel('RMES', font)\n",
    "plt.title('The number of test: ' + str(N), font)\n",
    "fig.set_size_inches(7, 7)\n",
    "plt.show()\n",
    "fig.savefig('Root-MUSIC and ESPRIT in different SNR')"
   ]
  }
 ],
 "metadata": {
  "kernelspec": {
   "display_name": "Python [conda env:py36]",
   "language": "python",
   "name": "conda-env-py36-py"
  },
  "language_info": {
   "codemirror_mode": {
    "name": "ipython",
    "version": 3
   },
   "file_extension": ".py",
   "mimetype": "text/x-python",
   "name": "python",
   "nbconvert_exporter": "python",
   "pygments_lexer": "ipython3",
   "version": "3.6.5"
  }
 },
 "nbformat": 4,
 "nbformat_minor": 2
}
