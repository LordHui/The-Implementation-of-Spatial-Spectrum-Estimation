{
 "cells": [
  {
   "cell_type": "code",
   "execution_count": 39,
   "metadata": {},
   "outputs": [],
   "source": [
    "import numpy as np\n",
    "from numpy import pi\n",
    "from numpy import exp\n",
    "from numpy.linalg import eig"
   ]
  },
  {
   "cell_type": "code",
   "execution_count": 40,
   "metadata": {},
   "outputs": [],
   "source": [
    "# SNR = 20\n",
    "# snapshots = 200\n",
    "# sensorsNum = 8\n",
    "def Root_MUSIC(SNR = 20, snapshots = 200, sensorsNum = 8):\n",
    "#----------Consider a ULA, where the array sapcing is a half wavelength of the signal.--------#\n",
    "    c = 3e8\n",
    "    f = 2.4e9                       # frequency is 2.4GHz\n",
    "    wavelength = c / f              # lambda\n",
    "    spacing = wavelength / 2        # ULA's spacing\n",
    "\n",
    "#---------Sample: sample frequency is fs = 3f-------------------------------------------#\n",
    "    fs = 3 * f                      \n",
    "    Ts = 1 / fs                     # Sample period\n",
    "    Ns = Ts * np.arange(snapshots)          # Sample spacing\n",
    "\n",
    "#----------Consider noises are generated from a zero mean Gaussian distribution.--------------#\n",
    "    sigma_N = 0.1\n",
    "    noiseCovMat = np.diag(sigma_N * np.ones(sensorsNum))    \n",
    "\n",
    "    noiseAmp = np.random.multivariate_normal(np.zeros(sensorsNum), noiseCovMat, snapshots)\n",
    "    noisePhase = np.mat([exp(-1j*2*pi*f*Ns + np.random.rand())])\n",
    "    noiseMat = np.multiply(noiseAmp, noisePhase.T)                    # Each row is A sample \n",
    "\n",
    "#----------Consider four uncorrlated sources at -25 degree, 0 degree and 25 degree,-------#\n",
    "#----------Each source is generated from a zerom mean Gaussian distribution.------------------#    \n",
    "    theta_S = np.array([-25, 0, 25])\n",
    "    sourcesNum = len(theta_S)\n",
    "    sigma_S = sigma_N * 10**(SNR/10)\n",
    "    signalCovMat = np.diag(sigma_S * np.ones(sourcesNum))\n",
    "    signalAmp = np.random.multivariate_normal(np.zeros(sourcesNum), signalCovMat, snapshots)\n",
    "    signalPhase = np.mat([exp(-1j*2*pi*f*Ns + np.random.rand())])\n",
    "    signalMat = np.multiply(signalAmp, signalPhase.T)                # Each row is A sample \n",
    "\n",
    "    spacingK = spacing * np.arange(sensorsNum)\n",
    "    manifoldMat = np.zeros((sensorsNum, sourcesNum), dtype=complex)\n",
    "    for col in range(manifoldMat.shape[1]):\n",
    "        manifoldMat[:, col] = np.mat([exp(-1j*2*pi*f*((spacingK*np.sin(np.deg2rad(theta_S[col])))/c))], dtype=complex)\n",
    "\n",
    "    sensorsOut = np.dot(manifoldMat, signalMat.T) + noiseMat.T    # X = AS + N, each column is A sample\n",
    "\n",
    "    covMat_hat = np.dot(sensorsOut, sensorsOut.H) / snapshots\n",
    "    eigenValues, eigenVectors = eig(covMat_hat)\n",
    "    eigenValuesIdx = np.argsort(eigenValues)\n",
    "    noisySubspace = eigenVectors[:, eigenValuesIdx[range(sensorsNum - sourcesNum)]]\n",
    "\n",
    "    noisySubspace1 = noisySubspace[range(sourcesNum), :]\n",
    "    noisySubspace2 = noisySubspace[range(sourcesNum, sensorsNum), :]\n",
    "    b = np.mat(np.hstack((1, np.zeros(sensorsNum - sourcesNum - 1)))).reshape(sensorsNum - sourcesNum, 1)\n",
    "    coeff = noisySubspace1 * noisySubspace2.I * b\n",
    "    coeff = np.vstack((coeff, 1))\n",
    "    coeff = np.array(coeff.T)[0]                # coeff[0]*z**0 + coeff[1]*z**1 + ...\n",
    "\n",
    "    polyRoots = np.roots(np.flip(coeff, 0))\n",
    "    theta_hat = np.rad2deg(np.arcsin((wavelength/(2*pi*spacing))*np.angle(polyRoots)))\n",
    "    theta_hat.sort()\n",
    "    return theta_hat\n",
    "#     print(theta_hat)"
   ]
  }
 ],
 "metadata": {
  "kernelspec": {
   "display_name": "Python [conda env:py36]",
   "language": "python",
   "name": "conda-env-py36-py"
  },
  "language_info": {
   "codemirror_mode": {
    "name": "ipython",
    "version": 3
   },
   "file_extension": ".py",
   "mimetype": "text/x-python",
   "name": "python",
   "nbconvert_exporter": "python",
   "pygments_lexer": "ipython3",
   "version": "3.6.5"
  }
 },
 "nbformat": 4,
 "nbformat_minor": 2
}
