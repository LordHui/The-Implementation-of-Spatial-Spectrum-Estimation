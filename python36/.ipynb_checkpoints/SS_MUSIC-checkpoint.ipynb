{
 "cells": [
  {
   "cell_type": "code",
   "execution_count": 2,
   "metadata": {},
   "outputs": [],
   "source": [
    "import numpy as np\n",
    "import matplotlib.pyplot as plt\n",
    "from numpy import exp, pi, sin, deg2rad, rad2deg\n",
    "from numpy.linalg import eig, svd"
   ]
  },
  {
   "cell_type": "code",
   "execution_count": 1,
   "metadata": {},
   "outputs": [],
   "source": [
    "# SNR = 20\n",
    "# snapshots = 200\n",
    "# sensorNum = 8\n",
    "def SS_MUSIC(SNR = 20, snapshots = 200, sensorNum = 8):\n",
    "#----------Consider a ULA, where the array sapcing is a half wavelength of the signal.--------#\n",
    "    c = 3e8\n",
    "    f = 2.4e9                       # frequency is 2.4GHz\n",
    "    wavelength = c / f              # lambda\n",
    "    spacing = wavelength / 2        # ULA's spacing\n",
    "\n",
    "#---------Sample: sample frequency is fs = 3f-------------------------------------------#\n",
    "    fs = 3 * f                      \n",
    "    Ts = 1 / fs                             # Sample period\n",
    "    Ns = Ts * np.arange(snapshots)          # Sample spacing\n",
    "\n",
    "#----------Consider noises are generated from a zero mean Gaussian distribution.--------------#\n",
    "    sigma_N = 0.1\n",
    "    noiseCovMat = np.diag(sigma_N * np.ones(sensorNum))    \n",
    "\n",
    "    noiseAmp = np.random.multivariate_normal(np.zeros(sensorNum), noiseCovMat, snapshots)\n",
    "    noisePhase = np.mat([exp(-1j*2*pi*f*Ns + np.random.rand())])\n",
    "    noiseMat = np.multiply(noiseAmp, noisePhase.T)                    # Each row is A sample \n",
    "\n",
    "#----------Consider four uncorrlated sources at -25 degree, 0 degree and 25 degree,-------#\n",
    "#----------Each source is generated from a zerom mean Gaussian distribution.------------------#    \n",
    "    theta_S = np.array([-25, 0, 25])\n",
    "    sourceNum = len(theta_S)\n",
    "    sigma_S = sigma_N * 10**(SNR/10)\n",
    "    signalCovMat = np.diag(sigma_S * np.ones(sourceNum))\n",
    "    signalAmp = np.random.multivariate_normal(np.zeros(sourceNum), signalCovMat, snapshots)\n",
    "    signalPhase = np.mat([exp(-1j*2*pi*f*Ns + np.random.rand())])\n",
    "    signalMat = np.multiply(signalAmp, signalPhase.T)                # Each row is A sample \n",
    "\n",
    "    spacingK = spacing * np.arange(sensorNum)\n",
    "    manifoldMat = np.zeros((sensorNum, sourceNum), dtype=complex)\n",
    "    for col in range(manifoldMat.shape[1]):\n",
    "            manifoldMat[:, col] = np.mat([exp(-1j*2*pi*f*((spacingK*np.sin(np.deg2rad(theta_S[col])))/c))], dtype=complex)\n",
    "\n",
    "    sensorOut = np.dot(manifoldMat, signalMat.T) + noiseMat.T\n",
    "    covMat_Hat = np.dot(sensorOut, sensorOut.H) / snapshots\n",
    "    eigenVects, eigenVals2, eigenVectsH = svd(covMat_Hat)\n",
    "    eigenValsIdx = np.argsort(-eigenVals2)\n",
    "    signalSubspace = eigenVects[:, eigenValsIdx[np.arange(sourceNum)]]\n",
    "    noisySubspace = eigenVects[:, eigenValsIdx[np.arange(sourceNum, sensorNum)]]\n",
    "\n",
    "    noisyPower_Hat = (1/(sensorNum - sourceNum))*np.sum(eigenVals2[np.arange(sourceNum, sensorNum)])\n",
    "    R = np.mat(np.diag(eigenVals2[eigenValsIdx[np.arange(sourceNum)]]) - noisyPower_Hat*np.eye(sourceNum))\n",
    "    noiseFreeMatPinv = np.dot(np.dot(signalSubspace, R.I), signalSubspace.H)\n",
    "\n",
    "    theta = np.arange(-90, 90, 0.1)\n",
    "    P_SS_MUSIC = np.zeros(len(theta), dtype=complex)\n",
    "    for itr in range(len(theta)):\n",
    "        steeringVec = np.mat(exp(-1j*2*pi*f*(spacingK*sin(deg2rad(theta[itr]))/c))).T\n",
    "        P_SS_MUSIC[itr] = (steeringVec.H*noiseFreeMatPinv*steeringVec) / (steeringVec.H*noisySubspace*noisySubspace.H*steeringVec)\n",
    "\n",
    "    return theta, P_SS_MUSIC"
   ]
  }
 ],
 "metadata": {
  "kernelspec": {
   "display_name": "Python [conda env:py36]",
   "language": "python",
   "name": "conda-env-py36-py"
  },
  "language_info": {
   "codemirror_mode": {
    "name": "ipython",
    "version": 3
   },
   "file_extension": ".py",
   "mimetype": "text/x-python",
   "name": "python",
   "nbconvert_exporter": "python",
   "pygments_lexer": "ipython3",
   "version": "3.6.5"
  }
 },
 "nbformat": 4,
 "nbformat_minor": 2
}
