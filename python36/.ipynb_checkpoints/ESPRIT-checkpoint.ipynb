{
 "cells": [
  {
   "cell_type": "code",
   "execution_count": 1,
   "metadata": {},
   "outputs": [],
   "source": [
    "import numpy as np\n",
    "import matplotlib.pyplot as plt\n",
    "from numpy import pi\n",
    "from numpy import exp\n",
    "from numpy import sin\n",
    "from numpy import deg2rad\n",
    "from numpy.linalg import eig"
   ]
  },
  {
   "cell_type": "code",
   "execution_count": 9,
   "metadata": {},
   "outputs": [
    {
     "name": "stdout",
     "output_type": "stream",
     "text": [
      "[ -2.50469166e+01  -2.00107583e-15   2.50646319e+01]\n"
     ]
    }
   ],
   "source": [
    "def ESPRIT(SNR = 20, snapshots = 200, sensorsNum = 8):\n",
    "#----------Consider a ULA, where the array sapcing is a half wavelength of the signal.--------#\n",
    "    c = 3e8\n",
    "    f = 2.4e9                       # frequency is 2.4GHz\n",
    "    wavelength = c / f              # lambda\n",
    "    spacing = wavelength / 2        # ULA's spacing\n",
    "\n",
    "#---------Sample: sample frequency is fs = 3f-------------------------------------------#\n",
    "    fs = 3 * f                      \n",
    "    Ts = 1 / fs                             # Sample period\n",
    "    Ns = Ts * np.arange(snapshots)          # Sample spacing\n",
    "\n",
    "#----------Consider noises are generated from a zero mean Gaussian distribution.--------------#\n",
    "    sigma_N = 0.1\n",
    "    noiseCovMat = np.diag(sigma_N * np.ones(sensorsNum))    \n",
    "\n",
    "    noiseAmp = np.random.multivariate_normal(np.zeros(sensorsNum), noiseCovMat, snapshots)\n",
    "    noisePhase = np.mat([exp(-1j*2*pi*f*Ns + np.random.rand())])\n",
    "    noiseMat = np.multiply(noiseAmp, noisePhase.T)                    # Each row is A sample \n",
    "\n",
    "#----------Consider four uncorrlated sources at -10 degree, 0 degree and 10 degree,-------#\n",
    "#----------Each source is generated from a zerom mean Gaussian distribution.------------------#    \n",
    "    theta_S = np.array([-25, 0, 25])\n",
    "    sourcesNum = len(theta_S)\n",
    "    sigma_S = sigma_N * 10**(SNR/10)\n",
    "    signalCovMat = np.mat([[sigma_S, 0*sigma_S, 0], [0*sigma_S, sigma_S, 0], [0, 0, sigma_S]])\n",
    "    signalAmp = np.random.multivariate_normal(np.zeros(sourcesNum), signalCovMat, snapshots)\n",
    "    signalPhase = np.mat([exp(-1j*2*pi*f*Ns + np.random.rand())])\n",
    "    signalMat = np.multiply(signalAmp, signalPhase.T)                # Each row is A sample \n",
    "\n",
    "    spacingK = spacing * np.arange(sensorsNum)\n",
    "    manifoldMat = np.zeros((sensorsNum, sourcesNum), dtype=complex)\n",
    "    for col in range(manifoldMat.shape[1]):\n",
    "            manifoldMat[:, col] = np.mat([exp(-1j*2*pi*f*((spacingK*np.sin(np.deg2rad(theta_S[col])))/c))], dtype=complex)\n",
    "\n",
    "    spacingSubspace = 1 * spacing\n",
    "    phaseDelayMat = np.diag(exp(1j*(2*pi*spacingSubspace*sin(deg2rad(theta_S)))/wavelength))\n",
    "\n",
    "    sensorsOut1 = np.dot(manifoldMat, signalMat.T) + noiseMat.T    # X1 = AS + N, each column is A sample\n",
    "    sensorsOut2 = np.dot(np.dot(manifoldMat, phaseDelayMat), signalMat.T) + noiseMat.T    # X2 = A$\\Phi$S + N, each column is A sample\n",
    "    sensorOut = np.vstack((sensorsOut1, sensorsOut2))\n",
    "\n",
    "    covMat_hat = np.dot(sensorOut, sensorOut.H) / snapshots\n",
    "\n",
    "    eigenValues, eigenVectors = eig(covMat_hat)\n",
    "    eigenValuesIdx = np.argsort(-eigenValues)\n",
    "    signalSubspace = eigenVectors[:, eigenValuesIdx[range(sourcesNum)]]\n",
    "    signalSubspace1 = signalSubspace[range(sensorsNum), :]\n",
    "    signalSubspace2 = signalSubspace[range(sensorsNum, 2*sensorsNum), :]\n",
    "    constructMat = np.hstack((signalSubspace1, signalSubspace2))\n",
    "    eigvals, eigVecMat = np.linalg.eig(np.dot(constructMat.H, constructMat))\n",
    "    subMat12 = eigVecMat[0: sourcesNum, range(sourcesNum, 2*sourcesNum)]\n",
    "    subMat22 = eigVecMat[sourcesNum: 2*sourcesNum, range(sourcesNum, 2*sourcesNum)]\n",
    "    Psi = -np.dot(subMat12, subMat22.I)\n",
    "    phase_hat = np.linalg.eigvals(Psi)\n",
    "    theta_hat = np.rad2deg(np.arcsin((np.angle(phase_hat)*wavelength)/(2*pi*spacingSubspace)))\n",
    "    theta_hat.sort()\n",
    "    return theta_hat\n",
    "#     print(theta_hat)"
   ]
  }
 ],
 "metadata": {
  "kernelspec": {
   "display_name": "Python [conda env:py36]",
   "language": "python",
   "name": "conda-env-py36-py"
  },
  "language_info": {
   "codemirror_mode": {
    "name": "ipython",
    "version": 3
   },
   "file_extension": ".py",
   "mimetype": "text/x-python",
   "name": "python",
   "nbconvert_exporter": "python",
   "pygments_lexer": "ipython3",
   "version": "3.6.5"
  }
 },
 "nbformat": 4,
 "nbformat_minor": 2
}
